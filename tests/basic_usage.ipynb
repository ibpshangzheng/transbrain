{
 "cells": [
  {
   "cell_type": "code",
   "execution_count": 11,
   "metadata": {},
   "outputs": [],
   "source": [
    "from pathlib import Path\n",
    "import pandas as pd\n",
    "import numpy as np\n",
    "import transbrain as tb\n",
    "import os"
   ]
  },
  {
   "cell_type": "markdown",
   "metadata": {},
   "source": [
    "## Example from mouse to human"
   ]
  },
  {
   "cell_type": "code",
   "execution_count": 12,
   "metadata": {},
   "outputs": [
    {
     "name": "stderr",
     "output_type": "stream",
     "text": [
      "INFO:root:Initialized for bn atlas.\n",
      "INFO:root:Successfully translated mouse all region to human.\n"
     ]
    },
    {
     "name": "stdout",
     "output_type": "stream",
     "text": [
      "        Phenotype\n",
      "A8m     -0.036860\n",
      "A8dl    -0.037950\n",
      "A9l     -0.048863\n",
      "A6dl    -0.023963\n",
      "A6m     -0.005832\n",
      "...           ...\n",
      "Otha     0.286257\n",
      "mPFtha   0.568260\n",
      "lPFtha   0.224642\n",
      "rTtha    0.732512\n",
      "PPtha    0.469093\n",
      "\n",
      "[127 rows x 1 columns]\n"
     ]
    }
   ],
   "source": [
    "#Initialize TransBrain for bn atlas\n",
    "Transformer = tb.trans.SpeciesTrans('bn')\n",
    "\n",
    "mouse_phenotype = pd.read_csv('../transbrain/exampledata/mouse/mouse_all_example_data.csv',index_col=0)\n",
    "mouse_phenotype_in_human = Transformer.mouse_to_human(mouse_phenotype, region_type='all', normalize=True)\n",
    "print(mouse_phenotype_in_human)\n"
   ]
  },
  {
   "cell_type": "markdown",
   "metadata": {},
   "source": [
    "## Example from human to mouse"
   ]
  },
  {
   "cell_type": "code",
   "execution_count": 13,
   "metadata": {},
   "outputs": [
    {
     "name": "stderr",
     "output_type": "stream",
     "text": [
      "INFO:root:Initialized for bn atlas.\n",
      "INFO:root:Successfully translated human all region to mouse.\n"
     ]
    },
    {
     "name": "stdout",
     "output_type": "stream",
     "text": [
      "      Phenotype\n",
      "ACAd   0.296680\n",
      "ACAv   0.303368\n",
      "PL     0.327434\n",
      "ILA    0.332395\n",
      "ORBl   0.386484\n",
      "...         ...\n",
      "MTN    0.696938\n",
      "ILM    0.688610\n",
      "GENv   0.638566\n",
      "EPI    0.731161\n",
      "RT     0.640969\n",
      "\n",
      "[66 rows x 1 columns]\n"
     ]
    }
   ],
   "source": [
    "Transformer = tb.trans.SpeciesTrans('bn')\n",
    "\n",
    "human_phenotype = pd.read_csv('../transbrain/exampledata/human/bn/human_bn_all_example_data.csv',index_col=0)\n",
    "human_phenotype_in_mouse = Transformer.human_to_mouse(human_phenotype, region_type='all', normalize=True)\n",
    "print(human_phenotype_in_mouse)"
   ]
  },
  {
   "cell_type": "markdown",
   "metadata": {},
   "source": [
    "## Get phenotypes in Human atlas used in TransBrain"
   ]
  },
  {
   "cell_type": "code",
   "execution_count": 14,
   "metadata": {},
   "outputs": [
    {
     "name": "stdout",
     "output_type": "stream",
     "text": [
      "             Phenotype\n",
      "Region name           \n",
      "A8m           0.064848\n",
      "A8dl          1.543472\n",
      "A9l           1.847849\n",
      "A6dl         -0.452153\n",
      "A6m          -1.175266\n",
      "...                ...\n",
      "A28/34        1.185400\n",
      "TI           -0.214262\n",
      "TH           -0.619775\n",
      "rpSTS         0.218751\n",
      "cpSTS        -0.438712\n",
      "\n",
      "[105 rows x 1 columns]\n"
     ]
    }
   ],
   "source": [
    "human_atlas = tb.atlas.fetch_human_atlas(atlas_type='bn',region_type='cortex')\n",
    "phenotype_nii_path = ('../transbrain/exampledata/human/human_example_phenotype_data.nii.gz')\n",
    "human_phenptype_extracted = tb.base.get_region_phenotypes(phenotype_nii_path, atlas_dict = human_atlas)\n",
    "print(human_phenptype_extracted)\n"
   ]
  },
  {
   "cell_type": "code",
   "execution_count": 15,
   "metadata": {},
   "outputs": [
    {
     "name": "stderr",
     "output_type": "stream",
     "text": [
      "INFO:root:Initialized for bn atlas.\n",
      "INFO:root:Successfully translated human cortex region to mouse.\n"
     ]
    },
    {
     "name": "stdout",
     "output_type": "stream",
     "text": [
      "         Phenotype\n",
      "ACAd      0.752345\n",
      "ACAv      0.808829\n",
      "PL        0.656465\n",
      "ILA       0.514904\n",
      "ORBl      0.805533\n",
      "ORBm      0.661180\n",
      "ORBvl     0.873377\n",
      "MOp       0.017489\n",
      "SSp-n     0.137524\n",
      "SSp-bfd   0.163902\n",
      "SSp-ll    0.097725\n",
      "SSp-m    -0.027497\n",
      "SSp-ul   -0.029382\n",
      "SSp-tr    0.081100\n",
      "SSp-un    0.297645\n",
      "SSs       0.139606\n",
      "PTLp      0.058395\n",
      "RSPagl    0.223968\n",
      "RSPd      0.381135\n",
      "RSPv      0.279498\n",
      "VISpm     0.140252\n",
      "VISp      0.051762\n",
      "VISal     0.030422\n",
      "VISl      0.077017\n",
      "VISpl     0.073758\n",
      "AId       0.054786\n",
      "AIp       0.009841\n",
      "AIv       0.068754\n",
      "GU        0.008394\n",
      "VISC     -0.025568\n",
      "TEa       0.469960\n",
      "PERI      0.514153\n",
      "ECT       0.404478\n",
      "AUDd      0.336839\n",
      "AUDp      0.550344\n",
      "AUDpo     0.486819\n",
      "AUDv      0.562850\n"
     ]
    }
   ],
   "source": [
    "#Mapping\n",
    "Transformer = tb.trans.SpeciesTrans('bn')\n",
    "human_phenotype_in_mouse = Transformer.human_to_mouse(human_phenptype_extracted, region_type='cortex', normalize=True)\n",
    "print(human_phenotype_in_mouse)"
   ]
  },
  {
   "cell_type": "markdown",
   "metadata": {},
   "source": [
    "## Get phenotypes in Mouse atlas used in TransBrain"
   ]
  },
  {
   "cell_type": "code",
   "execution_count": 16,
   "metadata": {},
   "outputs": [
    {
     "name": "stdout",
     "output_type": "stream",
     "text": [
      "             Phenotype\n",
      "Region name           \n",
      "ACAd          0.604520\n",
      "ACAv          0.369486\n",
      "AId           4.316058\n",
      "AIp           2.043769\n",
      "AIv           4.201185\n",
      "...                ...\n",
      "MTN           4.848961\n",
      "ILM           5.223915\n",
      "GENv          0.211644\n",
      "EPI           3.944127\n",
      "RT            1.150919\n",
      "\n",
      "[68 rows x 1 columns]\n"
     ]
    }
   ],
   "source": [
    "mouse_atlas = tb.atlas.fetch_mouse_atlas(region_type='all')\n",
    "phenotype_nii_path = ('../transbrain/exampledata/mouse/mouse_example_phenotype_data.nii.gz')\n",
    "mouse_phenptype_extracted = tb.base.get_region_phenotypes(phenotype_nii_path, atlas_dict = mouse_atlas)\n",
    "print(mouse_phenptype_extracted)\n"
   ]
  },
  {
   "cell_type": "code",
   "execution_count": 17,
   "metadata": {},
   "outputs": [
    {
     "name": "stderr",
     "output_type": "stream",
     "text": [
      "INFO:root:Initialized for bn atlas.\n",
      "INFO:root:Successfully translated mouse all region to human.\n"
     ]
    },
    {
     "name": "stdout",
     "output_type": "stream",
     "text": [
      "        Phenotype\n",
      "A8m     -0.036852\n",
      "A8dl    -0.037943\n",
      "A9l     -0.048855\n",
      "A6dl    -0.023955\n",
      "A6m     -0.005824\n",
      "...           ...\n",
      "Otha     0.286260\n",
      "mPFtha   0.568262\n",
      "lPFtha   0.224644\n",
      "rTtha    0.732510\n",
      "PPtha    0.469096\n",
      "\n",
      "[127 rows x 1 columns]\n"
     ]
    }
   ],
   "source": [
    "#Mapping\n",
    "Transformer = tb.trans.SpeciesTrans('bn')\n",
    "mouse_phenotype_in_human = Transformer.mouse_to_human(mouse_phenptype_extracted, region_type='all', normalize=True)\n",
    "print(mouse_phenotype_in_human)\n"
   ]
  },
  {
   "cell_type": "markdown",
   "metadata": {},
   "source": [
    "## Get graphembeddings "
   ]
  },
  {
   "cell_type": "code",
   "execution_count": 18,
   "metadata": {},
   "outputs": [
    {
     "name": "stderr",
     "output_type": "stream",
     "text": [
      "INFO:root:Initialized for bn atlas.\n"
     ]
    }
   ],
   "source": [
    "Transformer = tb.trans.SpeciesTrans('bn')\n",
    "Human_Mouse_embedding_bn = Transformer._load_embeddings()"
   ]
  },
  {
   "cell_type": "code",
   "execution_count": 19,
   "metadata": {},
   "outputs": [
    {
     "data": {
      "text/plain": [
       "(500, 193, 40)"
      ]
     },
     "execution_count": 19,
     "metadata": {},
     "output_type": "execute_result"
    }
   ],
   "source": [
    "Human_Mouse_embedding_bn.shape"
   ]
  }
 ],
 "metadata": {
  "kernelspec": {
   "display_name": "transbrain_env",
   "language": "python",
   "name": "python3"
  },
  "language_info": {
   "codemirror_mode": {
    "name": "ipython",
    "version": 3
   },
   "file_extension": ".py",
   "mimetype": "text/x-python",
   "name": "python",
   "nbconvert_exporter": "python",
   "pygments_lexer": "ipython3",
   "version": "3.8.5"
  }
 },
 "nbformat": 4,
 "nbformat_minor": 2
}
